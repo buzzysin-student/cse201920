{
 "cells": [
  {
   "cell_type": "code",
   "execution_count": 1,
   "metadata": {},
   "outputs": [],
   "source": [
    "#######################################\n",
    "# COMS30014 - Artificial Intelligence #\n",
    "# Multiagent Systems Lab - I          #\n",
    "# Covid-19 Simulation                 #\n",
    "#######################################\n",
    "\n",
    "# Before starting, make sure you have installed Mesa \n",
    "# You could install via command line --- pip install mesa\n",
    "# For generating plots, you will need matplotlib which too you can install via command line --- pip install matplotlib"
   ]
  },
  {
   "cell_type": "code",
   "execution_count": 2,
   "metadata": {
    "id": "glNIQt9Lkwf7"
   },
   "outputs": [],
   "source": [
    "NUM_OF_AGENTS = 1000\n",
    "\n",
    "# PLACES\n",
    "PARK = 0\n",
    "HOME = 1\n",
    "GROCERY = 2\n",
    "QC = 3 # Quarantine center\n",
    "\n",
    "# INFECTION STATES\n",
    "NOT_INFECTED = 0\n",
    "INFECTED_A = 1\n",
    "INFECTED_S = 2\n",
    "CRITICAL = 3\n",
    "CURED = 4\n",
    "DECEASED = 5\n",
    "\n",
    "# Capacity of quarantine center\n",
    "QC_LIMIT = 0 # Capacity of quarantine center"
   ]
  },
  {
   "cell_type": "code",
   "execution_count": 3,
   "metadata": {
    "id": "gvRWatxlUOI_"
   },
   "outputs": [],
   "source": [
    "from mesa import Agent, Model\n",
    "from mesa.time import RandomActivation\n",
    "from mesa.space import MultiGrid\n",
    "from mesa.datacollection import DataCollector\n",
    "\n",
    "class HumanAgent(Agent):\n",
    "    def __init__(self, unique_id, model):\n",
    "        super().__init__(unique_id, model)\n",
    "        self.homeId = unique_id//4\n",
    "        self.health = NOT_INFECTED\n",
    "\n",
    "    def step(self):\n",
    "        self.updateHealth()\n",
    "        self.move()\n",
    "\n",
    "    # Function for mobility pattern modeling\n",
    "    \n",
    "    def move(self):\n",
    "        x, y = self.pos\n",
    "        if x==QC:\n",
    "            return\n",
    "        if self.model.quarantine and self.model.QC_Occupancy < QC_LIMIT and self.health == CRITICAL:\n",
    "            self.model.grid.move_agent(self, (QC,0))\n",
    "            self.model.QC_Occupancy += 1\n",
    "            return\n",
    "        if self.model.quarantine and self.model.QC_Occupancy < QC_LIMIT and self.health == INFECTED_S and self.random.uniform(0, 1) <= 0.20:\n",
    "            self.model.grid.move_agent(self, (QC,0))\n",
    "            self.model.QC_Occupancy += 1\n",
    "            return\n",
    "        if x == HOME:\n",
    "          p = self.random.uniform(0, 1)\n",
    "          # Visit park with 10% probability\n",
    "          if p <= 0.1:\n",
    "            newX = PARK\n",
    "            newY = self.random.choice((0,1)) # Visit one of the two parks\n",
    "          # Visit grocery store with 20% probability\n",
    "          elif p <= 0.3:\n",
    "            newX = GROCERY\n",
    "            newY = self.random.choice((0,1,2,3,4)) # Visit one of the five grocery stores\n",
    "          else:\n",
    "            newX = x\n",
    "            newY = y\n",
    "        if x == GROCERY or x == PARK: # If grocery or park, return home\n",
    "          newX = HOME\n",
    "          newY = self.homeId\n",
    "        self.model.grid.move_agent(self, (newX,newY))\n",
    "\n",
    "    # Function for modeling the spread of the virus\n",
    "\n",
    "    def updateHealth(self):\n",
    "        p = self.random.uniform(0, 1)\n",
    "        if self.health == INFECTED_A and p > 0.75:\n",
    "                self.health += 1\n",
    "        elif self.health == INFECTED_S:\n",
    "            if p > 0.75 and p <= 0.85:\n",
    "                self.health += 1\n",
    "            elif p > 0.85:\n",
    "                self.health = CURED\n",
    "                x,y = self.pos\n",
    "                if x == QC:\n",
    "                    self.model.QC_Occupancy -= 1                \n",
    "        elif self.health == CRITICAL:\n",
    "            if p > 0.75 and p <= 0.95:\n",
    "                self.health += 1\n",
    "                x,y = self.pos\n",
    "                if x == QC:\n",
    "                    self.model.QC_Occupancy -= 1\n",
    "            elif p > 0.95:\n",
    "                self.health = DECEASED\n",
    "                self.model.deceasedCount += 1\n",
    "                x,y = self.pos\n",
    "                if x == QC:\n",
    "                    self.model.QC_Occupancy -= 1\n",
    "        return\n",
    "    \n",
    "    def infect(self):\n",
    "        p = self.random.uniform(0, 1)\n",
    "        if self.health == NOT_INFECTED and p > self.model.p0b:\n",
    "                self.health += 1\n",
    "\n",
    "\n",
    "def compute_infected(model):\n",
    "    infectedAgents = [agent for agent in model.schedule.agents if agent.health in (INFECTED_A, INFECTED_S, CRITICAL) ]\n",
    "    return len(infectedAgents)\n",
    "\n",
    "class CovidModel(Model):\n",
    "    \"\"\"A model with some number of agents.\"\"\"\n",
    "    def __init__(self, N, startingState, quarantine = False, socialDistancing = False):\n",
    "        self.num_agents = N\n",
    "        # self.random.seed(42)\n",
    "        self.QC_Occupancy = 0\n",
    "        self.deceasedCount = 0\n",
    "        self.quarantine = quarantine\n",
    "        self.grid = MultiGrid(4 if quarantine else 3, 250, False)\n",
    "        self.schedule = RandomActivation(self)\n",
    "        self.running = True\n",
    "        \n",
    "        # With socialdistancing the probability of infection is 10% (p0b = 0.9) otherwise it is 50%\n",
    "        self.p0b = 0.5\n",
    "        \n",
    "        ###########\n",
    "        # HINT: \n",
    "        # You need to update the the next if block to correctly set infection probability when social distancing is TRUE\n",
    "        # You need to change quarantine center capacity too\n",
    "        ###########\n",
    "        if socialDistancing:\n",
    "            self.p0b = 0.5\n",
    "        ###########\n",
    "        \n",
    "        # Create agents\n",
    "        for i in range(self.num_agents):\n",
    "            a = HumanAgent(i, self)\n",
    "            self.schedule.add(a)\n",
    "            self.grid.place_agent(a, (HOME, a.homeId))\n",
    "        for a in self.random.sample(self.schedule.agents,int(startingState*N)):\n",
    "            a.health = INFECTED_A\n",
    "        self.datacollector = DataCollector(\n",
    "            model_reporters={\"Infected\": compute_infected,\n",
    "                             \"QC_Occupancy\": \"QC_Occupancy\"}\n",
    "            )\n",
    "    def step(self):\n",
    "        self.datacollector.collect(self)\n",
    "        '''Advance the model by one step.'''\n",
    "        self.schedule.step()\n",
    "        self.identifyAgentsAndUpdateSpread()\n",
    "    def identifyAgentsAndUpdateSpread(self):\n",
    "        # Park\n",
    "        for y in range(2):\n",
    "            agents = self.grid.get_cell_list_contents([(PARK,y)])\n",
    "            self.updateSpread(agents)\n",
    "        # Grocery\n",
    "        for y in range(5):\n",
    "            agents = self.grid.get_cell_list_contents([(GROCERY,y)])\n",
    "            self.updateSpread(agents)\n",
    "        # Home\n",
    "        for y in range(250):\n",
    "            agents = self.grid.get_cell_list_contents([(HOME,y)])\n",
    "            self.updateSpread(agents)\n",
    "    def updateSpread(self, agents):\n",
    "        if any(a.health in (INFECTED_A, INFECTED_S, CRITICAL) for a in agents):\n",
    "            [a.infect() for a in agents]"
   ]
  },
  {
   "cell_type": "code",
   "execution_count": 4,
   "metadata": {
    "id": "PjPjGA9uyaBY"
   },
   "outputs": [],
   "source": [
    "\n",
    "def runSimulation(startingState,quarantine=False,socialDistancing=False):\n",
    "    modelInst = CovidModel(NUM_OF_AGENTS, startingState, quarantine, socialDistancing)\n",
    "    i=0\n",
    "    while any(a.health in (INFECTED_A, INFECTED_S, CRITICAL) for a in modelInst.schedule.agents):\n",
    "        i += 1\n",
    "        modelInst.step()\n",
    "    modelDF = modelInst.datacollector.get_model_vars_dataframe()\n",
    "    \n",
    "    return i, modelInst.deceasedCount, modelDF.QC_Occupancy,modelDF.Infected"
   ]
  },
  {
   "cell_type": "markdown",
   "metadata": {
    "id": "BF4937_SU85E"
   },
   "source": [
    "# Baseline 1\n",
    "StartingState = 10%\n",
    "\n",
    "Quarantine=False\n",
    "\n",
    "Social Distancing=False"
   ]
  },
  {
   "cell_type": "code",
   "execution_count": 10,
   "metadata": {
    "colab": {
     "base_uri": "https://localhost:8080/",
     "height": 316
    },
    "id": "XLcEKQfAU_nP",
    "outputId": "6b666fe7-f0e9-4973-81bd-028b23ab5c7b"
   },
   "outputs": [
    {
     "name": "stdout",
     "output_type": "stream",
     "text": [
      "Average number of days before stabilization: 46.7\n",
      "Average of the Day with peak Infection (757.4): 9.8\n",
      "Average Number of Casualties: 78.7\n"
     ]
    },
    {
     "data": {
      "image/png": "[encoded data removed]",
      "text/plain": [
       "<Figure size 432x288 with 1 Axes>"
      ]
     },
     "metadata": {
      "needs_background": "light"
     },
     "output_type": "display_data"
    }
   ],
   "source": [
    "StartingState = 0.1\n",
    "quarantine=False\n",
    "socialDistancing=False\n",
    "\n",
    "averageDays = 0\n",
    "dayWithMaxInfectionRate = 0\n",
    "maxInfection = 0\n",
    "averageCasualties = 0\n",
    "for i in range(10):\n",
    "    days, Casualties, QC_Occupancy, Infected = runSimulation(StartingState/100,quarantine,socialDistancing)\n",
    "    averageDays+=days\n",
    "    dayWithMaxInfectionRate+=Infected.idxmax()\n",
    "    maxInfection += Infected.max()\n",
    "    averageCasualties += Casualties\n",
    "    if i == 9:\n",
    "        # QC_Occupancy.plot(legend=True)\n",
    "        Infected.plot(legend=True)\n",
    "print('Average number of days before stabilization: ' + str(averageDays/10))\n",
    "print('Average of the Day with peak Infection ('+str(maxInfection/10)+'): ' + str(dayWithMaxInfectionRate/10))\n",
    "print('Average Number of Casualties: ' + str(averageCasualties/10))\n"
   ]
  },
  {
   "cell_type": "markdown",
   "metadata": {
    "id": "NI_OUc-gby6-"
   },
   "source": [
    "# Baseline 2\n",
    "StartingState = 25%\n",
    "\n",
    "Quarantine=False\n",
    "\n",
    "Social Distancing=False"
   ]
  },
  {
   "cell_type": "code",
   "execution_count": 6,
   "metadata": {
    "colab": {
     "base_uri": "https://localhost:8080/",
     "height": 316
    },
    "id": "NSeDHpcicDso",
    "outputId": "69294274-26c7-4917-b4c7-853276b14d6a"
   },
   "outputs": [
    {
     "name": "stdout",
     "output_type": "stream",
     "text": [
      "Average number of days before stabilization: 48.0\n",
      "Average of the Day with peak Infection (764.3): 9.1\n",
      "Average Number of Casualties: 76.5\n"
     ]
    },
    {
     "data": {
      "image/png": "[encoded data removed]",
      "text/plain": [
       "<Figure size 432x288 with 1 Axes>"
      ]
     },
     "metadata": {
      "needs_background": "light"
     },
     "output_type": "display_data"
    }
   ],
   "source": [
    "StartingState = 0.25\n",
    "quarantine=False\n",
    "socialDistancing=False\n",
    "\n",
    "averageDays = 0\n",
    "dayWithMaxInfectionRate = 0\n",
    "maxInfection = 0\n",
    "averageCasualties = 0\n",
    "for i in range(10):\n",
    "    days, Casualties, QC_Occupancy, Infected = runSimulation(StartingState/100,quarantine,socialDistancing)\n",
    "    averageDays+=days\n",
    "    dayWithMaxInfectionRate+=Infected.idxmax()\n",
    "    maxInfection += Infected.max()\n",
    "    averageCasualties += Casualties\n",
    "    if i == 9:\n",
    "        # QC_Occupancy.plot(legend=True)\n",
    "        Infected.plot(legend=True)\n",
    "print('Average number of days before stabilization: ' + str(averageDays/10))\n",
    "print('Average of the Day with peak Infection ('+str(maxInfection/10)+'): ' + str(dayWithMaxInfectionRate/10))\n",
    "print('Average Number of Casualties: ' + str(averageCasualties/10))\n"
   ]
  },
  {
   "cell_type": "markdown",
   "metadata": {},
   "source": [
    "# Baseline 3\n",
    "StartingState = 50%\n",
    "\n",
    "Quarantine=False\n",
    "\n",
    "Social Distancing=False"
   ]
  },
  {
   "cell_type": "code",
   "execution_count": 7,
   "metadata": {},
   "outputs": [],
   "source": [
    "# Add code for baseline 3 here"
   ]
  },
  {
   "cell_type": "markdown",
   "metadata": {},
   "source": [
    "# Adding Quarantine Centers\n",
    "Enable quarantine centers for each baseline and see how the plots change\n",
    "In the line plot, include a plot for capacity of qurantine center too"
   ]
  },
  {
   "cell_type": "code",
   "execution_count": 8,
   "metadata": {},
   "outputs": [],
   "source": [
    "# Add code to generate plots with quarantine centers here"
   ]
  },
  {
   "cell_type": "markdown",
   "metadata": {},
   "source": [
    "# Enabling Social Distancing Norms\n",
    "Enable social distancing norms in addition to quaratine centers for each baseline and see how the plots change\n",
    "In the line plot, include a plot for capacity of qurantine center too"
   ]
  },
  {
   "cell_type": "code",
   "execution_count": 9,
   "metadata": {},
   "outputs": [],
   "source": [
    "# Add code to generate plots with social distancing and quarantine centers here"
   ]
  }
 ],
 "metadata": {
  "colab": {
   "collapsed_sections": [],
   "name": "MESA_SC555.ipynb",
   "provenance": []
  },
  "interpreter": {
   "hash": "fc3ae696a9f017a0607635c3aee976ca429c40fb9cd1373688d97bc64e9cc350"
  },
  "kernelspec": {
   "display_name": "Python 3.9.7 64-bit ('ml': conda)",
   "name": "python3"
  },
  "language_info": {
   "codemirror_mode": {
    "name": "ipython",
    "version": 3
   },
   "file_extension": ".py",
   "mimetype": "text/x-python",
   "name": "python",
   "nbconvert_exporter": "python",
   "pygments_lexer": "ipython3",
   "version": "3.9.7"
  }
 },
 "nbformat": 4,
 "nbformat_minor": 4
}
