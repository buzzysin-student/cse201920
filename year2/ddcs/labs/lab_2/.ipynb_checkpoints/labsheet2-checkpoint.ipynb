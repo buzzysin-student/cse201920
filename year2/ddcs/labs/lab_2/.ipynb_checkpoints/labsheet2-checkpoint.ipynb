{
 "cells": [
  {
   "cell_type": "markdown",
   "metadata": {},
   "source": [
    "# Lab 2: Introduction to Python and Jupyter Notebooks, Part II\n",
    "\n",
    "In this lab session we will continue our introduction to Python/NumPy/Matplotlib. We will see how to perform some basic operation on vectors, matrices, and a special type of matrix, the *image*. \n",
    "\n",
    "As usual, before we start, we need to import the needed libraries and set some useful plotting parameters. We can do this by running the code cell below."
   ]
  },
  {
   "cell_type": "code",
   "execution_count": 1,
   "metadata": {},
   "outputs": [],
   "source": [
    "from __future__ import print_function # to avoid issues between Python 2 and 3 printing\n",
    "\n",
    "import numpy as np\n",
    "from scipy import stats\n",
    "from skimage import data, io, color, transform, exposure\n",
    "import matplotlib.pyplot as plt\n",
    "\n",
    "# show matplotlib figures inline\n",
    "%matplotlib inline"
   ]
  },
  {
   "cell_type": "code",
   "execution_count": 2,
   "metadata": {},
   "outputs": [],
   "source": [
    "# By default we set figures to be 6\"x4\" on a 110 dots per inch (DPI) screen \n",
    "# (adjust DPI if you have a high res screen!)\n",
    "plt.rc('figure', figsize=(6, 4), dpi=110)\n",
    "plt.rc('font', size=10)"
   ]
  },
  {
   "cell_type": "markdown",
   "metadata": {},
   "source": [
    "You'll notice the line [`%matplotlib inline`](https://ipython.readthedocs.io/en/stable/interactive/magics.html#magic-matplotlib) looks very different to all other python code so far. This is a special command just for jupyter notebooks which will plot the figures inline and doesn't require a call to [`plt.show()`](https://matplotlib.org/api/_as_gen/matplotlib.pyplot.show.html)."
   ]
  },
  {
   "cell_type": "markdown",
   "metadata": {},
   "source": [
    "## 1. Functions \n",
    "\n",
    "Let's start creating a function called `test_normal(n, mean_dist, var_dist)` that generates a *random sequence* of `n` numbers from the normal distribution $\\mathcal{N}(\\mu, \\sigma^2)$ and returns the *mean* and *var* of the *sequence*. \n",
    "\n",
    "### Default Value Parameters\n",
    "Python allows you to have default values for parameters if you want them to be optional. For example if we define the function as `test_normal(n=100, mean_dist=5.0, var_dist=2.0)` then we can actually call the function using `test_normal()` and pass no parameters. We could also call the function using `test_normal(var_dist=10, mean_dist=0.5)`. You can find more info [here](https://www.programiz.com/python-programming/function-argument).\n",
    "\n",
    "Write the function so that when no parameters are passed it generates a sequence of 10000 elements from the distribution $\\mathcal{N}(0, 1)$. \n",
    "\n",
    "Call the function multiple times with no arguments and observe the output.\n",
    "\n",
    "Hint: you can use the function [`numpy.random.randn`](https://docs.scipy.org/doc/numpy-1.15.1/reference/generated/numpy.random.randn.html) to generate a random sequence from the normal distribution."
   ]
  },
  {
   "cell_type": "code",
   "execution_count": 3,
   "metadata": {},
   "outputs": [
    {
     "name": "stdout",
     "output_type": "stream",
     "text": [
      "call\tmean\tvar\n",
      "0\t5.011\t5.064\n",
      "1\t5.016\t5.046\n",
      "2\t5.001\t4.902\n",
      "3\t4.977\t4.993\n",
      "4\t5.010\t4.955\n",
      "5\t4.981\t5.025\n",
      "6\t5.000\t4.893\n",
      "7\t4.972\t5.004\n",
      "8\t5.030\t4.896\n",
      "9\t4.966\t4.872\n"
     ]
    }
   ],
   "source": [
    "# write your code here\n",
    "def test_normal(\n",
    "    n: int = 10000, \n",
    "    mean_dist: float = 0, \n",
    "    var_dist: float = 1\n",
    ") -> (np.ndarray, np.ndarray):\n",
    "        seq = np.sqrt(var_dist) * np.random.randn(n, 1) + mean_dist\n",
    "        mu = seq.mean()\n",
    "        sigma2 = seq.var()\n",
    "        return mu, sigma2\n",
    "\n",
    "callcount = 10\n",
    "\n",
    "print(f\"call\\tmean\\tvar\")\n",
    "for call in range (callcount):\n",
    "    mu, sigma2 = test_normal(mean_dist=5,var_dist=5)\n",
    "    print(f\"{call}\\t{mu:.3f}\\t{sigma2:.3f}\")"
   ]
  },
  {
   "cell_type": "markdown",
   "metadata": {},
   "source": [
    "### Play now a little with the parameters of the function. \n",
    "\n",
    "- What do you observe when you create a sequence with a very small number of elements? \n",
    "- What happens when the sequence contains a very large number of elements instead?"
   ]
  },
  {
   "cell_type": "markdown",
   "metadata": {},
   "source": [
    "## 2. 2D Normal distribution\n",
    "\n",
    "Given the following 2D normal distribution $\\mathcal{N}(\\mathbf{\\mu},\\mathbf{C})$ with:\n",
    "$$\n",
    "\\mathbf{\\mu}=\\left [ \\begin{array}{c}2\\\\2\\end{array}\\right ] \\;\\;\\;\\;\\;\n",
    "\\mathbf{C}=\\left [ \\begin{array}{cc}4& 2\\\\2& 6\\end{array}\\right ] \n",
    "$$\n",
    "\n",
    "Estimate the probability that the following vectors:\n",
    "\n",
    "- $x_1 = (1, 2)$\n",
    "- $x_2 = (2,8)$\n",
    "- $x_3 = (5,4)$ \n",
    "\n",
    "are sampled from the distribution. Hint: use SciPy's function [`stats.multivariate_normal.pdf`](https://docs.scipy.org/doc/scipy/reference/generated/scipy.stats.multivariate_normal.html)."
   ]
  },
  {
   "cell_type": "code",
   "execution_count": 18,
   "metadata": {},
   "outputs": [
    {
     "data": {
      "text/plain": [
       "(0.030630984921987542, 0.0009724001092355, 0.011268509615631653)"
      ]
     },
     "execution_count": 18,
     "metadata": {},
     "output_type": "execute_result"
    }
   ],
   "source": [
    "# write your code here\n",
    "mu = np.array([2,2]).transpose()\n",
    "cv = np.array([[4,2],\n",
    "               [2,6]])\n",
    "pdf = lambda x: stats.multivariate_normal.pdf(x, mu, cv)\n",
    "\n",
    "\n",
    "x1 = np.array([1,2]).transpose()\n",
    "x2 = np.array([2,8]).transpose()\n",
    "x3 = np.array([5,4]).transpose()\n",
    "\n",
    "pdf(x1), pdf(x2), pdf(x3)"
   ]
  },
  {
   "cell_type": "markdown",
   "metadata": {},
   "source": [
    "### Observe the obtained values. Which vector has the highest likelihood? Why?"
   ]
  },
  {
   "cell_type": "markdown",
   "metadata": {},
   "source": [
    "## 3. Random vectors\n",
    "\n",
    "Generate a sequence of 100 random vectors from the 2D distribution above using the function [`stats.multivariate_normal.rvs`](https://docs.scipy.org/doc/scipy/reference/generated/scipy.stats.multivariate_normal.html)."
   ]
  },
  {
   "cell_type": "code",
   "execution_count": 36,
   "metadata": {},
   "outputs": [],
   "source": [
    "# write your code here\n",
    "rvs = stats.multivariate_normal.rvs(size=100, mean=mu, cov=cv)"
   ]
  },
  {
   "cell_type": "markdown",
   "metadata": {},
   "source": [
    "Create now a scatter plot of the sequence using the function [`plt.scatter`](https://matplotlib.org/api/_as_gen/matplotlib.pyplot.scatter.html). Compute the mean and covariance for the sequence using the functions [`np.mean`](https://docs.scipy.org/doc/numpy-1.15.0/reference/generated/numpy.mean.html) (consider the `axis` parameter) and [`np.cov`](https://docs.scipy.org/doc/numpy-1.15.0/reference/generated/numpy.cov.html) (consider the `rowvar` parameter)."
   ]
  },
  {
   "cell_type": "code",
   "execution_count": 64,
   "metadata": {},
   "outputs": [
    {
     "data": {
      "text/plain": [
       "(array([2.36728044, 2.54103715]),\n",
       " array([[3.7202289 , 1.24372991],\n",
       "        [1.24372991, 4.44968194]]))"
      ]
     },
     "execution_count": 64,
     "metadata": {},
     "output_type": "execute_result"
    },
    {
     "data": {
      "image/png": "[encoded data removed]",
      "text/plain": [
       "<Figure size 660x440 with 1 Axes>"
      ]
     },
     "metadata": {
      "needs_background": "light"
     },
     "output_type": "display_data"
    }
   ],
   "source": [
    "# write your code here\n",
    "rvs = stats.multivariate_normal.rvs(size=100, mean=mu, cov=cv)\n",
    "\n",
    "scatterX = rvs.transpose()[0]\n",
    "scatterY = rvs.transpose()[1]\n",
    "scatter = plt.scatter(x=scatterX,y=scatterY)\n",
    "\n",
    "rvmu, rvcvr = np.mean(rvs, axis=0), np.cov(rvs, rowvar=False)\n",
    "rvmu, rvcvr"
   ]
  },
  {
   "cell_type": "markdown",
   "metadata": {},
   "source": [
    "Let's increase now the length of the sequence to 4000. Plot the new data and compute the new mean and covariance."
   ]
  },
  {
   "cell_type": "code",
   "execution_count": 65,
   "metadata": {},
   "outputs": [
    {
     "data": {
      "text/plain": [
       "(array([1.95193954, 1.91786661]),\n",
       " array([[4.03159195, 1.88688669],\n",
       "        [1.88688669, 5.83347155]]))"
      ]
     },
     "execution_count": 65,
     "metadata": {},
     "output_type": "execute_result"
    },
    {
     "data": {
      "image/png": "[encoded data removed]",
      "text/plain": [
       "<Figure size 660x440 with 1 Axes>"
      ]
     },
     "metadata": {
      "needs_background": "light"
     },
     "output_type": "display_data"
    }
   ],
   "source": [
    "# put your code here\n",
    "rvs = stats.multivariate_normal.rvs(size=4000, mean=mu, cov=cv)\n",
    "\n",
    "scatterX = rvs.transpose()[0]\n",
    "scatterY = rvs.transpose()[1]\n",
    "scatter = plt.scatter(x=scatterX,y=scatterY)\n",
    "\n",
    "rvmu, rvcvr = np.mean(rvs, axis=0), np.cov(rvs, rowvar=False)\n",
    "rvmu, rvcvr"
   ]
  },
  {
   "cell_type": "markdown",
   "metadata": {},
   "source": [
    "### Compare the two scatter plots above. What do you observe?"
   ]
  },
  {
   "cell_type": "markdown",
   "metadata": {},
   "source": [
    "## 4. Matrix Inverse\n",
    "\n",
    "Create a function that takes a 2x2 matrix and returns its inverse.\n",
    "\n",
    "Recall that the inverse of a 2x2 matrix\n",
    "$$\n",
    "\\mathbf{A}=\\left [ \\begin{array}{cc}\n",
    "    a & b \\\\\n",
    "    c & d\\end{array}\\right ]\n",
    "$$\n",
    "\n",
    "is\n",
    "\n",
    "$$\n",
    "\\mathbf{A}^{-1} = \n",
    "    \\frac{1}{\\det(\\mathbf{A})} \\left [ \\begin{array}{cc}\n",
    "        d & -b \\\\\n",
    "        -c & a\\end{array}\\right ]\n",
    "$$\n",
    "\n",
    "where\n",
    "\n",
    "$$\\det{(\\mathbf{A})} = ad - bc$$"
   ]
  },
  {
   "cell_type": "markdown",
   "metadata": {},
   "source": [
    "### Before coding, answer the following question:\n",
    "\n",
    "Given the definition above, are there any conditions you need to check before calculating the inverse of a matrix in your function?"
   ]
  },
  {
   "cell_type": "code",
   "execution_count": 74,
   "metadata": {},
   "outputs": [
    {
     "name": "stdout",
     "output_type": "stream",
     "text": [
      "2 1 1 2\n"
     ]
    }
   ],
   "source": [
    "# write your code here\n",
    "def inverse_matrix(matrix: np.ndarray) -> np.ndarray:\n",
    "    try:\n",
    "        if (matrix.shape[0] != matrix.shape[1]):\n",
    "            raise ValueError(\"This matrix is not square\")\n",
    "        \n",
    "        if (matrix.shape != (2,2)):\n",
    "            raise ValueError(\"This function only supports 2x2 matrices\")\n",
    "            \n",
    "        a,b,c,d = matrix[0,0],matrix[0,1],matrix[1,0],matrix[1,1]\n",
    "        \n",
    "        det = a*d - b*c\n",
    "        \n",
    "        if (det === 0):\n",
    "            raise ValueError(\"This matrix is non-invertible\")\n",
    "        \n",
    "        return np.array([[d,-b],\n",
    "                         [-c,a]]) * 1/det\n",
    "    except Exception as e:\n",
    "        print(e)\n",
    "        return np.array([[0]])\n",
    "    \n",
    "M = np.array([[2,1],\n",
    "              [1,2]])\n",
    "\n",
    "inverse_matrix(M)"
   ]
  },
  {
   "cell_type": "markdown",
   "metadata": {},
   "source": [
    "Call now the function passing different random 2x2 matrices.\n",
    "\n",
    "Try also your function with a singular 2x2 matrix and a random 2x3 matrix and make sure your code does not crash!"
   ]
  },
  {
   "cell_type": "code",
   "execution_count": 9,
   "metadata": {},
   "outputs": [],
   "source": [
    "# write your code here"
   ]
  },
  {
   "cell_type": "markdown",
   "metadata": {},
   "source": [
    "Obviously, there was already a function in NumPy to calculate the inverse of a matrix, which is the function [`np.linalg.inv`](https://docs.scipy.org/doc/numpy/reference/generated/numpy.linalg.inv.html#numpy.linalg.inv). \n",
    "\n",
    "Compare now the results obtained with your function with those obtained with the NumPy one. Note that if you coded the function right, you should get the exact same results!"
   ]
  },
  {
   "cell_type": "code",
   "execution_count": 10,
   "metadata": {},
   "outputs": [],
   "source": [
    "# write your code here"
   ]
  },
  {
   "cell_type": "markdown",
   "metadata": {},
   "source": [
    "## 5. Loading images with Python\n",
    "\n",
    "We will use the [scikit-image](https://scikit-image.org/) library to load, show and perform some operation on images. \n",
    "\n",
    "We have already imported all the needed functions in the first code cell of this notebook.\n",
    "\n",
    "Let's now load the image `flower.png` using the function [`io.imread`](http://scikit-image.org/docs/dev/api/skimage.io.html#skimage.io.imread) and let's display the image using the function [`io.imshow`](http://scikit-image.org/docs/dev/api/skimage.io.html#skimage.io.imshow)."
   ]
  },
  {
   "cell_type": "code",
   "execution_count": 11,
   "metadata": {},
   "outputs": [],
   "source": [
    "# write your code here"
   ]
  },
  {
   "cell_type": "markdown",
   "metadata": {},
   "source": [
    "Remember that images can be interpreted as *matrices*. In fact, the scikit-image library stores images as NumPy arrays. \n",
    "\n",
    "Such arrays are either 2D, for grey scale images, or 3D, for colour images.\n",
    "\n",
    "In the grey scale case, the 2D array simply stores the intensity value of each pixel. Usually values are in the range `[0, 255]` (8 bit images), but other ranges are also possible, such as `[0, 1]`.\n",
    "\n",
    "In the colour case, the third dimension represents one of the three `[R, G, B]` colour channels. Each channel can be seen as a grey scale image which stores the intensity value of the corresponding colour. By combining the three colours we can obtain all the [other colours](https://en.wikipedia.org/wiki/RGB_color_model).\n",
    "\n",
    "#### Note:\n",
    "* A number of different colour models exist, such as CMY or HSL. Depending on the used colour model, pixels in matrices are organised in different ways. Here we assume we are dealing only with the RGB colour model, which is the predominant model for monitors, and thus assume our matrices are in the form seen above. You can learn more about this topic [here](https://en.wikipedia.org/wiki/Color_space) and [here](https://en.wikipedia.org/wiki/Color_model#CMYK_color_model)\n",
    "\n",
    "We can check the size/shape of an image/matrix by using the property `shape` of NumPy's arrays. "
   ]
  },
  {
   "cell_type": "code",
   "execution_count": 12,
   "metadata": {},
   "outputs": [
    {
     "ename": "NameError",
     "evalue": "name 'im_flower' is not defined",
     "output_type": "error",
     "traceback": [
      "\u001b[0;31m---------------------------------------------------------------------------\u001b[0m",
      "\u001b[0;31mNameError\u001b[0m                                 Traceback (most recent call last)",
      "\u001b[0;32m<ipython-input-12-97af51809fee>\u001b[0m in \u001b[0;36m<module>\u001b[0;34m\u001b[0m\n\u001b[0;32m----> 1\u001b[0;31m \u001b[0mprint\u001b[0m\u001b[0;34m(\u001b[0m\u001b[0;34m'Image shape:'\u001b[0m\u001b[0;34m,\u001b[0m \u001b[0mim_flower\u001b[0m\u001b[0;34m.\u001b[0m\u001b[0mshape\u001b[0m\u001b[0;34m)\u001b[0m\u001b[0;34m\u001b[0m\u001b[0;34m\u001b[0m\u001b[0m\n\u001b[0m",
      "\u001b[0;31mNameError\u001b[0m: name 'im_flower' is not defined"
     ]
    }
   ],
   "source": [
    "print('Image shape:', im_flower.shape)"
   ]
  },
  {
   "cell_type": "markdown",
   "metadata": {},
   "source": [
    "In our case, the flower image has resolution 1440x900. Note how rows represent the height of the image, while columns represent its width. Since our image is in colours, we have a 3D array."
   ]
  },
  {
   "cell_type": "markdown",
   "metadata": {},
   "source": [
    "## 6. Image manipulation\n",
    "\n",
    "Let's convert our colour image to a grey scale one using the function [`color.rgb2gray`](http://scikit-image.org/docs/dev/api/skimage.color.html#skimage.color.rgb2gray). Let's then change the size of the image to half its current size using the function [`transform.resize`](http://scikit-image.org/docs/dev/api/skimage.transform.html#skimage.transform.resize).\n",
    "\n",
    "Print both images' size to check your operation was perfomed correctly."
   ]
  },
  {
   "cell_type": "code",
   "execution_count": null,
   "metadata": {},
   "outputs": [],
   "source": [
    "# write your code here"
   ]
  },
  {
   "cell_type": "markdown",
   "metadata": {},
   "source": [
    "## 7. Image interpretation\n",
    "\n",
    "Calculate the histogram of your grey scale image's pixel values using the function [`exposure.histogram`](http://scikit-image.org/docs/dev/api/skimage.exposure.html#skimage.exposure.histogram).\n",
    "\n",
    "You can use the following function `imhist` to plot the histogram."
   ]
  },
  {
   "cell_type": "code",
   "execution_count": null,
   "metadata": {},
   "outputs": [],
   "source": [
    "def imhist(img_hist):\n",
    "    fig, ax = plt.subplots()\n",
    "    ax.bar( range(256), img_hist[0], width=1 )\n",
    "    ax.set_xlim(0, 256)"
   ]
  },
  {
   "cell_type": "markdown",
   "metadata": {},
   "source": [
    "### What can we tell about the image by looking at the histogram? \n",
    "\n",
    "Recall we plotted the histogram of the grey scale image, and recall that our pixels have values ranging from 0 (black) to 255 (white)."
   ]
  },
  {
   "cell_type": "markdown",
   "metadata": {},
   "source": [
    "## 8. Image Interpretation  II\n",
    "\n",
    "Use the function [`exposure.equalize_hist`](http://scikit-image.org/docs/dev/api/skimage.exposure.html#skimage.exposure.equalize_hist) to [equalize](https://en.wikipedia.org/wiki/Histogram_equalization) the image. Show the image and its corresponding histogram."
   ]
  },
  {
   "cell_type": "code",
   "execution_count": null,
   "metadata": {},
   "outputs": [],
   "source": [
    "# write your code here"
   ]
  },
  {
   "cell_type": "markdown",
   "metadata": {},
   "source": [
    "### Observe the resulting image and its histogram. What can we tell about the equalised image? "
   ]
  }
 ],
 "metadata": {
  "kernelspec": {
   "display_name": "Python 3",
   "language": "python",
   "name": "python3"
  },
  "language_info": {
   "codemirror_mode": {
    "name": "ipython",
    "version": 3
   },
   "file_extension": ".py",
   "mimetype": "text/x-python",
   "name": "python",
   "nbconvert_exporter": "python",
   "pygments_lexer": "ipython3",
   "version": "3.8.5"
  },
  "toc": {
   "base_numbering": 1,
   "nav_menu": {},
   "number_sections": true,
   "sideBar": true,
   "skip_h1_title": false,
   "title_cell": "Table of Contents",
   "title_sidebar": "Contents",
   "toc_cell": false,
   "toc_position": {},
   "toc_section_display": true,
   "toc_window_display": false
  }
 },
 "nbformat": 4,
 "nbformat_minor": 4
}
