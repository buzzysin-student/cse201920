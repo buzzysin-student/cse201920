{
 "cells": [
  {
   "cell_type": "markdown",
   "metadata": {},
   "source": [
    "# Lab 3: Least Squares Method \n",
    "\n",
    "\n",
    "## Introduction\n",
    "In this lab we will introduce you to the least squares method which is used to reconstruct a line (i.e. find its parameters) from a series of points. \n",
    "\n",
    "This lab also serves as an introduction to the CW1: Unknown Signal, which will require you to extend the least squares method to non-linear applications.\n",
    "\n",
    "As always we'll begin by importing the necessary modules for the lab."
   ]
  },
  {
   "cell_type": "code",
   "execution_count": 1,
   "metadata": {},
   "outputs": [],
   "source": [
    "from __future__ import print_function # to avoid issues between Python 2 and 3 printing\n",
    "\n",
    "import numpy as np\n",
    "from skimage import data, io, color, transform, exposure\n",
    "from scipy import stats\n",
    "import matplotlib.pyplot as plt\n",
    "\n",
    "# show matplotlib figures inline\n",
    "%matplotlib inline"
   ]
  },
  {
   "cell_type": "code",
   "execution_count": 2,
   "metadata": {},
   "outputs": [],
   "source": [
    "# By default we set figures to be 6\"x4\" on a 110 dots per inch (DPI) screen \n",
    "# (adjust DPI if you have a high res screen!)\n",
    "plt.rc('figure', figsize=(6, 4), dpi=110)\n",
    "plt.rc('font',      size=10)"
   ]
  },
  {
   "cell_type": "markdown",
   "metadata": {},
   "source": [
    "## 1.  Get some numbers\n",
    "\n",
    "We'll begin by generating a series of points from a given equation with noise applied.\n",
    "\n",
    "Generate a sequence of 10 numbers, using the following equation\n",
    "\n",
    "$$\n",
    "y_i=0.2+0.5x_i+e_i\n",
    "$$\n",
    "\n",
    "where $x_i$ is a *uniformly distributed* random number between 0 and 1 and $e_i$ is a *random* number from $\\mathcal{N}(\\mu = 0, \\sigma^2 = 0.01)$."
   ]
  },
  {
   "cell_type": "code",
   "execution_count": 3,
   "metadata": {},
   "outputs": [
    {
     "name": "stdout",
     "output_type": "stream",
     "text": [
      "es =>\n",
      "[[-1.27299032e-02]\n",
      " [ 1.55338182e-02]\n",
      " [-4.74271596e-03]\n",
      " [-2.88668318e-03]\n",
      " [-3.89391907e-05]\n",
      " [ 9.17714586e-03]\n",
      " [ 6.62150051e-03]\n",
      " [-3.88562144e-03]\n",
      " [ 6.45904781e-03]\n",
      " [-1.03634402e-02]]\n",
      "xs =>\n",
      "[[0.753002  ]\n",
      " [0.04627175]\n",
      " [0.7098758 ]\n",
      " [0.23649547]\n",
      " [0.44194113]\n",
      " [0.05748707]\n",
      " [0.94892295]\n",
      " [0.17000979]\n",
      " [0.98286767]\n",
      " [0.25825678]]\n",
      "ys =>\n",
      "[[0.5637711 ]\n",
      " [0.23866969]\n",
      " [0.55019518]\n",
      " [0.31536105]\n",
      " [0.42093163]\n",
      " [0.23792068]\n",
      " [0.68108298]\n",
      " [0.28111927]\n",
      " [0.69789288]\n",
      " [0.31876495]]\n"
     ]
    }
   ],
   "source": [
    "# write your code here\n",
    "nsamples = 10\n",
    "# mu = 0\n",
    "mu = np.array([0])\n",
    "# cv = v^2 = 0.01\n",
    "cv = np.array([0.01])\n",
    "\n",
    "# X ~ U(0,1)\n",
    "xs = np.random.uniform(0,1,(nsamples,1))\n",
    "# e ~ N(0,0.01)\n",
    "es = np.random.normal(mu, cv, (nsamples,1))\n",
    "# Y = 0.2 + 0.5x + e\n",
    "ys = 0.2 + 0.5 * xs + es\n",
    "\n",
    "print(f\"es =>\\n{es[:10]}\")\n",
    "print(f\"xs =>\\n{xs[:10]}\")\n",
    "print(f\"ys =>\\n{ys[:10]}\")"
   ]
  },
  {
   "cell_type": "markdown",
   "metadata": {},
   "source": [
    "Generate a scatter plot of $y_i$ versus $x_i$."
   ]
  },
  {
   "cell_type": "code",
   "execution_count": 4,
   "metadata": {},
   "outputs": [
    {
     "data": {
      "text/plain": [
       "<matplotlib.collections.PathCollection at 0x7f96ff8c4280>"
      ]
     },
     "execution_count": 4,
     "metadata": {},
     "output_type": "execute_result"
    },
    {
     "data": {
      "image/png": "[encoded data removed]",
      "text/plain": [
       "<Figure size 660x440 with 1 Axes>"
      ]
     },
     "metadata": {
      "needs_background": "light"
     },
     "output_type": "display_data"
    }
   ],
   "source": [
    "# write your code here\n",
    "fig, ax = plt.subplots()\n",
    "ax.scatter(xs, ys)"
   ]
  },
  {
   "cell_type": "markdown",
   "metadata": {},
   "source": [
    "## 2. Create a general function\n",
    "\n",
    "Change the above code to a function that receives the parameters $a$, $b$ and $n$ for the equation $y_i = a + b x_i + e_i$ and returns $n$ samples as shown in the previous exercise.  \n",
    "\n",
    "Use the code to generate 100 samples from the equation above and visualise them."
   ]
  },
  {
   "cell_type": "code",
   "execution_count": 5,
   "metadata": {},
   "outputs": [
    {
     "data": {
      "image/png": "[encoded data removed]",
      "text/plain": [
       "<Figure size 660x440 with 1 Axes>"
      ]
     },
     "metadata": {
      "needs_background": "light"
     },
     "output_type": "display_data"
    }
   ],
   "source": [
    "# write your code here\n",
    "nsamples = 100\n",
    "\n",
    "def dist(a, b, n):\n",
    "    xs = np.random.uniform(0, 1, (n, 1))\n",
    "    es = np.random.normal(mu, cv, (n, 1))\n",
    "    return xs, a + b * xs  + es\n",
    "\n",
    "xGens, yGens = dist(0.2, 0.5, nsamples)\n",
    "\n",
    "fig, ax = plt.subplots()\n",
    "scatter = ax.scatter(xGens, yGens)"
   ]
  },
  {
   "cell_type": "markdown",
   "metadata": {},
   "source": [
    "## 3. Least squares ##\n",
    "Using the sequences ${y_i}$ and ${x_i}$ from **2**, implement the matrix form of the least squares method to determine estimates of the parameters $a$ and $b$ (which we denote as $a'$ and $b'$) assuming that $y_i=a+bx_i$.\n",
    "\n",
    "**Hints**\n",
    "* The formula for the matrix form of least squares is given by: $A=(X^T.X)^{-1}.X^T.Y$ where $A=[a',b']$.\n",
    "* It is important that you keep track of the dimensions of your matrices, especially $X$. Remember that $X^T \\cdot X$ should give a 2x2 matrix.\n",
    "* Because of the equation being in the form of $y_i=a+bx_i$ the first column of X should be all 1s.\n",
    "* You don't need to use your code for matrix inverse and can instead use the function `np.linalg.inv`."
   ]
  },
  {
   "cell_type": "code",
   "execution_count": 12,
   "metadata": {},
   "outputs": [
    {
     "name": "stdout",
     "output_type": "stream",
     "text": [
      "[[0.56781614 1.        ]\n",
      " [0.77629624 1.        ]\n",
      " [0.68066924 1.        ]\n",
      " [0.85665317 1.        ]\n",
      " [0.398329   1.        ]\n",
      " [0.64118028 1.        ]\n",
      " [0.75613697 1.        ]\n",
      " [0.92595063 1.        ]\n",
      " [0.37408803 1.        ]\n",
      " [0.88446611 1.        ]\n",
      " [0.56430885 1.        ]\n",
      " [0.87303513 1.        ]\n",
      " [0.08268281 1.        ]\n",
      " [0.27150629 1.        ]\n",
      " [0.68113799 1.        ]\n",
      " [0.45973704 1.        ]\n",
      " [0.069745   1.        ]\n",
      " [0.36520552 1.        ]\n",
      " [0.0297164  1.        ]\n",
      " [0.42917913 1.        ]\n",
      " [0.46265487 1.        ]\n",
      " [0.8757512  1.        ]\n",
      " [0.15769771 1.        ]\n",
      " [0.47709989 1.        ]\n",
      " [0.45156989 1.        ]\n",
      " [0.905489   1.        ]\n",
      " [0.47107252 1.        ]\n",
      " [0.72478054 1.        ]\n",
      " [0.88914413 1.        ]\n",
      " [0.4489619  1.        ]\n",
      " [0.94048446 1.        ]\n",
      " [0.49426195 1.        ]\n",
      " [0.78625316 1.        ]\n",
      " [0.33635253 1.        ]\n",
      " [0.9490676  1.        ]\n",
      " [0.21956695 1.        ]\n",
      " [0.43489528 1.        ]\n",
      " [0.58691856 1.        ]\n",
      " [0.11859196 1.        ]\n",
      " [0.10516125 1.        ]\n",
      " [0.13015067 1.        ]\n",
      " [0.70149047 1.        ]\n",
      " [0.8626851  1.        ]\n",
      " [0.68875513 1.        ]\n",
      " [0.40857028 1.        ]\n",
      " [0.69425665 1.        ]\n",
      " [0.22123232 1.        ]\n",
      " [0.51675562 1.        ]\n",
      " [0.41535628 1.        ]\n",
      " [0.74015888 1.        ]\n",
      " [0.77247865 1.        ]\n",
      " [0.56593037 1.        ]\n",
      " [0.13395455 1.        ]\n",
      " [0.9689788  1.        ]\n",
      " [0.59296326 1.        ]\n",
      " [0.94033548 1.        ]\n",
      " [0.49324965 1.        ]\n",
      " [0.02872961 1.        ]\n",
      " [0.87709383 1.        ]\n",
      " [0.08177287 1.        ]\n",
      " [0.3108821  1.        ]\n",
      " [0.70777317 1.        ]\n",
      " [0.72134828 1.        ]\n",
      " [0.17256288 1.        ]\n",
      " [0.68042624 1.        ]\n",
      " [0.55017559 1.        ]\n",
      " [0.08068925 1.        ]\n",
      " [0.72540535 1.        ]\n",
      " [0.2116668  1.        ]\n",
      " [0.05062074 1.        ]\n",
      " [0.30581739 1.        ]\n",
      " [0.42716243 1.        ]\n",
      " [0.95969593 1.        ]\n",
      " [0.08904913 1.        ]\n",
      " [0.29406599 1.        ]\n",
      " [0.98825108 1.        ]\n",
      " [0.38934805 1.        ]\n",
      " [0.79943613 1.        ]\n",
      " [0.9436434  1.        ]\n",
      " [0.30810315 1.        ]\n",
      " [0.36237119 1.        ]\n",
      " [0.8635553  1.        ]\n",
      " [0.66474438 1.        ]\n",
      " [0.31616244 1.        ]\n",
      " [0.4486994  1.        ]\n",
      " [0.90735938 1.        ]\n",
      " [0.32354059 1.        ]\n",
      " [0.14867865 1.        ]\n",
      " [0.48870554 1.        ]\n",
      " [0.78516717 1.        ]\n",
      " [0.56050535 1.        ]\n",
      " [0.33609172 1.        ]\n",
      " [0.4997362  1.        ]\n",
      " [0.22818252 1.        ]\n",
      " [0.35112517 1.        ]\n",
      " [0.3972307  1.        ]\n",
      " [0.05837498 1.        ]\n",
      " [0.68701396 1.        ]\n",
      " [0.85512482 1.        ]\n",
      " [0.09991395 1.        ]]\n"
     ]
    }
   ],
   "source": [
    "# write your code here\n",
    "xGens, yGens = dist(0.2, 0.5, nsamples)\n",
    "\n",
    "def least_squares(X: np.ndarray, Y: np.ndarray):\n",
    "    bias = np.ones((X.shape[0],1), dtype=X.dtype)\n",
    "    Xb = np.append(X, bias, axis=1)\n",
    "    print(Xb)\n",
    "    return np.linalg.inv(Xb.T @ Xb) @ Xb.T @ Y\n",
    "\n",
    "Wh = least_squares(xGens, yGens)"
   ]
  },
  {
   "cell_type": "markdown",
   "metadata": {},
   "source": [
    "### Why aren't the values of a and b the same as in the original equation?"
   ]
  },
  {
   "cell_type": "markdown",
   "metadata": {},
   "source": [
    "## 4. Line fitting and plotting\n",
    "\n",
    "Draw the line defined by the estimated values of $a'$ and $b'$ on top of the scatter plot generated in point **2**."
   ]
  },
  {
   "cell_type": "code",
   "execution_count": 7,
   "metadata": {},
   "outputs": [
    {
     "data": {
      "text/plain": [
       "[<matplotlib.lines.Line2D at 0x7f96ff6b02b0>]"
      ]
     },
     "execution_count": 7,
     "metadata": {},
     "output_type": "execute_result"
    },
    {
     "data": {
      "image/png": "[encoded data removed]",
      "text/plain": [
       "<Figure size 660x440 with 1 Axes>"
      ]
     },
     "metadata": {
      "needs_background": "light"
     },
     "output_type": "display_data"
    }
   ],
   "source": [
    "# write your code here\n",
    "\n",
    "fig, ax = plt.subplots()\n",
    "ax.scatter(xGens, yGens)\n",
    "\n",
    "b, a = Wh\n",
    "\n",
    "xFit = np.linspace(0, 1, 100)\n",
    "yFit = a + b * xFit\n",
    "\n",
    "ax.plot(xFit, yFit, color=\"red\")"
   ]
  },
  {
   "cell_type": "markdown",
   "metadata": {},
   "source": [
    "## 5. Outliers\n",
    "\n",
    "Add a few outliers to your data. For example, add the points $\\{(0.5, 5), (0.6, 5), (0.7, 5)\\}$ to the sampled sequences from **2**.\n",
    "\n",
    "Re-estimate the best line that fits the data after the addition of the outliers.\n",
    "\n",
    "Plot the best fit line before and after the outlier data, in a way similar to the figure below (including the colouring and the legend).\n",
    "\n",
    "\n",
    "### Hint\n",
    "* Both `plot` and `scatter` have an optional parameter label which allows you to label each series for the legend.\n",
    "* Both `plot` and `scatter` have an optional parameter c which can be passed a colour, e.g. `c='r'` will set the colour to red.\n",
    "* `ax.legend` will create a legend automatically as long as your series have been labelled.\n",
    "\n",
    "![Line fit](lineFit.jpg)"
   ]
  },
  {
   "cell_type": "code",
   "execution_count": 8,
   "metadata": {},
   "outputs": [
    {
     "data": {
      "text/plain": [
       "[<matplotlib.lines.Line2D at 0x7f96ff688910>]"
      ]
     },
     "execution_count": 8,
     "metadata": {},
     "output_type": "execute_result"
    },
    {
     "data": {
      "image/png": "[encoded data removed]",
      "text/plain": [
       "<Figure size 660x440 with 1 Axes>"
      ]
     },
     "metadata": {
      "needs_background": "light"
     },
     "output_type": "display_data"
    }
   ],
   "source": [
    "# write your code here\n",
    "xOutlier = np.array([[0.5],\n",
    "                     [0.6],\n",
    "                     [0.7]])\n",
    "yOutlier = np.array([[1.],\n",
    "                     [1.],\n",
    "                     [1.]])\n",
    "x2Gens = np.append(xGens, xOutlier, axis=0)\n",
    "y2Gens = np.append(xGens, yOutlier, axis=0)\n",
    "\n",
    "WhOutlier = least_squares(x2Gens, y2Gens)\n",
    "b2, a2 = WhOutlier\n",
    "\n",
    "y2Fit = a2 + b2 * xFit\n",
    "\n",
    "fig, ax = plt.subplots()\n",
    "ax.scatter(xGens, yGens)\n",
    "ax.plot(xFit, yFit, color=\"green\")\n",
    "\n",
    "ax.scatter(x2Gens[-3:], y2Gens[-3:], color=\"red\")\n",
    "ax.plot(xFit, y2Fit, color=\"red\")"
   ]
  },
  {
   "cell_type": "markdown",
   "metadata": {},
   "source": [
    "## 6. Calculating the error\n",
    "\n",
    "We can now calculate the error in the predicted line using sum squared error (which is what least squares regression is minimising).\n",
    "\n",
    "Calculate the error of the best fit line and the best fit line with outliers.\n",
    "\n",
    "**Hint**\n",
    "* The sum squared error formula is $\\sum_i (\\hat{y}_i - y_i)^2$ where $\\hat{y}_i = a + bx_i$."
   ]
  },
  {
   "cell_type": "code",
   "execution_count": 9,
   "metadata": {
    "scrolled": true
   },
   "outputs": [
    {
     "data": {
      "text/plain": [
       "2.607869527685118"
      ]
     },
     "execution_count": 9,
     "metadata": {},
     "output_type": "execute_result"
    }
   ],
   "source": [
    "# write your code here\n",
    "SE = sum(np.square(y2Fit - yFit))\n",
    "SE"
   ]
  },
  {
   "cell_type": "markdown",
   "metadata": {},
   "source": [
    "## 7. Moving to a non-linear system\n",
    "\n",
    "So far we have been using the least squares method only to find the line of best fit for linear equations, however it can be extended quite easily to certain non-linear lines.\n",
    "\n",
    "Adapting this method lies in the creation of the $X$ matrix. The matrix we construct has two columns, the first a column of ones and the second a column of x values. Note how each column represents a function applied to x: $x^0$, $x^1$.\n",
    "\n",
    "If we were instead given the function $y = a + be^x$ to apply the least squares method we can just modify how we define $X$: instead of the second column including $x^1$ we can insert $e^x$.\n",
    "\n",
    "Given the set of points below, calculate $a$ and $b$ assuming they fit an exponential curve.\n",
    "### Hint\n",
    "* `np.exp(new_x)` will define the new column to add."
   ]
  },
  {
   "cell_type": "code",
   "execution_count": 10,
   "metadata": {},
   "outputs": [
    {
     "data": {
      "text/plain": [
       "(array([1.10035113]), array([0.39780844]))"
      ]
     },
     "execution_count": 10,
     "metadata": {},
     "output_type": "execute_result"
    }
   ],
   "source": [
    "new_x = np.array([-5, -4, -2, -1.5, -0.5, 0.5, 0.75, 1, 1.3, 1.9, 2.1, 2.4, 2.8, 3, 3.2])\n",
    "new_y = np.array([0.407, 0.42, 0.549, 0.645, 1.07, 2.21, 2.73, 3.39, 4.44, 7.75, 9.38, 12.5, 18.5, 22.5, 27.4])\n",
    "\n",
    "Xexp = np.exp(new_x).reshape(15,1)\n",
    "Xcns = np.ones((new_x.shape[0],1))\n",
    "\n",
    "Xb = np.concatenate(( Xcns,Xexp,), axis=1)\n",
    "Y = new_y.reshape(15,1)\n",
    "\n",
    "WhExp = np.linalg.inv(Xb.T @ Xb) @ Xb.T @ Y\n",
    "\n",
    "b, a = WhExp\n",
    "\n",
    "a, b"
   ]
  },
  {
   "cell_type": "markdown",
   "metadata": {},
   "source": [
    "### Visualising the result\n",
    "We can now visualise the fitted line as a figure as before using `plot`. Due to the non-linear nature of the equation we can use `np.linspace(-5, 3.2, 100)` which returns 100 evenly spaced numbers in the interval between -5 and 3.2. \n",
    "\n",
    "Create a graph plotting both the original points and the fitted line as below:\n",
    "![Exp line fit](exp_line_fit.png)"
   ]
  },
  {
   "cell_type": "code",
   "execution_count": 11,
   "metadata": {},
   "outputs": [
    {
     "data": {
      "text/plain": [
       "[<matplotlib.lines.Line2D at 0x7f96fddd9c40>]"
      ]
     },
     "execution_count": 11,
     "metadata": {},
     "output_type": "execute_result"
    },
    {
     "data": {
      "image/png": "[encoded data removed]",
      "text/plain": [
       "<Figure size 660x440 with 1 Axes>"
      ]
     },
     "metadata": {
      "needs_background": "light"
     },
     "output_type": "display_data"
    }
   ],
   "source": [
    "# write your code here\n",
    "fig, ax = plt.subplots()\n",
    "ax.scatter(new_x, new_y)\n",
    "\n",
    "x = np.linspace(-5, 3.2, 100)\n",
    "y = b + a * np.exp(x)\n",
    "\n",
    "ax.plot(x, y, color=\"r\")"
   ]
  },
  {
   "cell_type": "markdown",
   "metadata": {},
   "source": [
    "### What other types of functions can we extend this to?\n",
    "\n",
    "For example why can't we fit to the function $y=a \\cdot e^{bx}$?"
   ]
  }
 ],
 "metadata": {
  "kernelspec": {
   "display_name": "Python 3",
   "language": "python",
   "name": "python3"
  },
  "language_info": {
   "codemirror_mode": {
    "name": "ipython",
    "version": 3
   },
   "file_extension": ".py",
   "mimetype": "text/x-python",
   "name": "python",
   "nbconvert_exporter": "python",
   "pygments_lexer": "ipython3",
   "version": "3.8.5"
  }
 },
 "nbformat": 4,
 "nbformat_minor": 1
}
