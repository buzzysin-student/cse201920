{
 "cells": [
  {
   "cell_type": "markdown",
   "metadata": {},
   "source": [
    "# Lab 4: Maximum Likelihood Estimate (MLE)\n",
    "\n",
    "### Introduction\n",
    "\n",
    "In this lab session we shall have a look at how to use the *Maximum Likelihood Estimate (MLE)* method to estimate the parameters of some model, given some observations $D$.\n",
    "\n",
    "<font color=\"red\">NOTE: </font>In the notation $\\mathcal{N} (\\mu, \\sigma^2)$ $\\mu$ refers to the mean and $\\sigma^2$  the variance, not the standard deviation. The standard deviation is $\\sigma = \\sqrt {\\sigma^2}$, i.e. for $\\mathcal{N}(0.5, 0.25)$, the standard deviation is $\\sigma = 0.5$.\n",
    "\n",
    "As usual, let's import the libraries before we start by running the cell below."
   ]
  },
  {
   "cell_type": "code",
   "execution_count": 2,
   "metadata": {},
   "outputs": [],
   "source": [
    "from __future__ import print_function # to avoid issues between Python 2 and 3 printing\n",
    "\n",
    "import numpy as np\n",
    "from scipy import stats\n",
    "# Necessary to import Axes3D to use `plt.subplots(subplot_kw={'projection': '3d'})`\n",
    "# as this internally sets up matplotlib for 3D projection, without this import you'll \n",
    "# get an error.\n",
    "from mpl_toolkits.mplot3d import Axes3D\n",
    "import matplotlib.pyplot as plt\n",
    "\n",
    "# show matplotlib figures inline\n",
    "%matplotlib inline"
   ]
  },
  {
   "cell_type": "code",
   "execution_count": 3,
   "metadata": {},
   "outputs": [],
   "source": [
    "# By default we set figures to be 7\"x4\" on a 110 dots per inch (DPI) screen \n",
    "# (adjust DPI if you have a high res screen!)\n",
    "plt.rc('figure', figsize=(7, 4), dpi=110)\n",
    "plt.rc('font', size=10)"
   ]
  },
  {
   "cell_type": "markdown",
   "metadata": {},
   "source": [
    "## 1. MLE recipe\n",
    "\n",
    "Let's suppose you're given $n$ one dimensional data points $D = \\{d_0, d_1, ...,  d_{n-1} \\}$ which you believe follow a normal distribution. In this case, your model has two parameters: $\\mu$ and $\\sigma^2$.\n",
    "\n",
    "Given your data $D$, you wish to find the most likely parameters of the normal distribution.\n",
    "Let's assume the standard deviation ($\\sigma$) is 0.5, now estimate the parameter $\\mu$ of the model (the mean of the normal distribution representing your data). \n",
    "\n",
    "Use the Maximum Likelihood Estimate (MLE) formula to show that $\\mu_{ML} = \\frac{1}{n}\\sum_i d_i$.\n",
    "\n",
    "**Hint**: assuming the data points are independent, we have \n",
    "\n",
    "$$p(D|\\mu) = \\prod_i p(d_i | \\mu) = \\prod_i \\mathcal{N}(d_i|\\mu, \\sigma^2)$$\n",
    "\n",
    "Additionally, since this is a convex function, we can analytically find the stationary point that maximises the function where $\\frac{dp(D|\\mu)}{d\\mu} = 0$.\n",
    "\n",
    "**Note:** This should be done on paper (and ideally typed up in $\\LaTeX$ in the cell below), not using Python."
   ]
  },
  {
   "cell_type": "markdown",
   "metadata": {},
   "source": [
    "### Answer\n",
    "\n",
    "Write here your answer using latex notation. Alternatively, write your solution on paper and show it to a TA."
   ]
  },
  {
   "cell_type": "markdown",
   "metadata": {},
   "source": [
    "$$\n",
    "\\begin{aligned}\n",
    "\\mathcal{L} &= \\ln \\left[ \\prod_{i} p(d_i | \\mu) \\right] & \\\\\n",
    "            &= \\sum_{i} \\ln \\left[ p(d_i | \\mu) \\right] &= \\sum_{i} \\ln \\left[ \\mathcal{N}(d_i | \\mu, \\sigma^2) \\right] \\\\\n",
    "            &= \\sum_i \\ln \\left[ \\frac{1}{\\sigma \\sqrt{2 \\pi}} \\exp \\left( {-\\frac{1}{2} {\\left( \\frac{d_i-\\mu}{\\sigma} \\right)}^2 } \\right) \\right] & \\\\ \n",
    "            \\\\\n",
    "            \\text{therefore} \\\\\n",
    "            \\\\\n",
    "\\frac{\\partial\\mathcal{L}}{\\partial\\mu} \n",
    "            &= \\frac{\\partial}{\\partial\\mu} \\sum_i \\ln \\left[ \\frac{1}{\\sigma \\sqrt{2 \\pi}} \\exp \\left( {-\\frac{1}{2} {\\left( \\frac{d_i-\\mu}{\\sigma} \\right)}^2 } \\right) \\right] \n",
    "            % &= \\sum_i  \\frac{\\partial}{\\partial\\mu} \\ln \\left[ \\frac{1}{\\sigma \\sqrt{2 \\pi}} \\exp \\left( {-\\frac{1}{2} {\\left( \\frac{d_i-\\mu}{\\sigma} \\right)}^2 } \\right) \\right] \\\\\n",
    "            \\\\\n",
    "            \\text{Evaluating }\\ln \\text{ yields: } \n",
    "            \\\\\n",
    "            &=  \\frac{\\partial}{\\partial\\mu} \\sum_i   \\left( \\ln \\left[ \\frac{1}{\\sigma \\sqrt{2 \\pi}} \\right] \\right)  - \\frac{\\partial}{\\partial\\mu} \\sum_i   \\frac{1}{2} {\\left( \\frac{d_i-\\mu}{\\sigma} \\right)}^2   \\\\\n",
    "            \\\\\n",
    "            \\text{Constant term can be ignored, factor out }\\sigma^2 \\text{:} \\\\\n",
    "            \\\\\n",
    "            &= - \\frac{\\partial}{\\partial\\mu} \\sum_i   \\frac{1}{2 \\sigma^2} {\\left( d_i-\\mu \\right)}^2  \\\\\n",
    "            \\\\\n",
    "            \\text{Applying chain rule:} \\\\\n",
    "            \\\\\n",
    "            &= \\sum_i \\frac{d_i-\\mu}{\\sigma^2} \\\\\n",
    "            \\\\\n",
    "            \\text{Finally, }\\hat \\mu_{ML}\\text{is found by solving:} \\\\\n",
    "            \\\\\n",
    "\\frac{\\partial\\mathcal{L}}{\\partial\\mu} \n",
    "            &= 0 \\\\\n",
    "0           &= \\sum_i \\frac{d_i-\\hat\\mu}{\\sigma^2} &= \\sum_i d_i-\\hat\\mu \\\\\n",
    "\\sum_i \\hat \\mu  \n",
    "            &= \\sum_i d_i \\\\\n",
    "\\hat\\mu     &= \\frac{1}{n} \\sum_i d_i\n",
    "\\end{aligned}\n",
    "$$"
   ]
  },
  {
   "cell_type": "markdown",
   "metadata": {},
   "source": [
    "## 2. MLE with Python\n",
    "\n",
    "We know want you to write a simple program that calculates $\\mu_{\\text{ML}}$ using Python.\n",
    "\n",
    "Let's now load the data from the file `data1.dat` and let's plot the histogram of the data."
   ]
  },
  {
   "cell_type": "code",
   "execution_count": 4,
   "metadata": {},
   "outputs": [
    {
     "data": {
      "text/plain": [
       "(array([2., 1., 5., 9., 8., 8., 8., 4., 2., 3.]),\n",
       " array([-0.34415 , -0.144065,  0.05602 ,  0.256105,  0.45619 ,  0.656275,\n",
       "         0.85636 ,  1.056445,  1.25653 ,  1.456615,  1.6567  ]),\n",
       " <BarContainer object of 10 artists>)"
      ]
     },
     "execution_count": 4,
     "metadata": {},
     "output_type": "execute_result"
    },
    {
     "data": {
      "image/png": "[encoded data removed]",
      "text/plain": [
       "<Figure size 770x440 with 1 Axes>"
      ]
     },
     "metadata": {
      "needs_background": "light"
     },
     "output_type": "display_data"
    }
   ],
   "source": [
    "# write your code here\n",
    "sigma = np.array([0.5])\n",
    "sigma2 = sigma**2\n",
    "\n",
    "sanitise = lambda x: float(str.strip(x))\n",
    "\n",
    "def get_data(path):\n",
    "    raw = open(path).readlines()\n",
    "    data = np.array(list(map(sanitise, raw)), dtype=float).reshape(len(raw), 1)\n",
    "    return data\n",
    "\n",
    "data = get_data(\"data1.dat\")\n",
    "\n",
    "fig, ax = plt.subplots()\n",
    "ax.hist(data)"
   ]
  },
  {
   "cell_type": "markdown",
   "metadata": {},
   "source": [
    "You should now see a histogram approximating a normal distribution. In fact, `data1.data` contains the observations $D$ we talked about above when deriving $\\mu_\\text{ML}$, which we said we believe follows a normal distribution. \n",
    "\n",
    "Write a function `compute_likelihood(D, mu)` that takes a value of $\\mu$ and computes $p(D | \\mu)$ for the data in `data1.dat`, assuming $\\sigma=0.5$.\n",
    "\n",
    "You may use NumPy's function `np.prod` for the calculation."
   ]
  },
  {
   "cell_type": "code",
   "execution_count": 5,
   "metadata": {},
   "outputs": [],
   "source": [
    "# write your code here\n",
    "def compute_likelihood(D, mu):\n",
    "    return np.prod(stats.multivariate_normal.pdf(D, mu, sigma2))"
   ]
  },
  {
   "cell_type": "markdown",
   "metadata": {},
   "source": [
    "Write a function `loop_likelihood(D)` that calls `compute_likelihood` for each value of $\\mu \\in \\{0.00, 0.01, 0.02, \\ldots , 1.00\\}$, storing *both* the value of $\\mu$ and the corresponding obtained likelihood in a 2D array so that the first column contains the value $\\mu$ and the second the likelihood $p(D|\\mu)$ ."
   ]
  },
  {
   "cell_type": "code",
   "execution_count": 6,
   "metadata": {},
   "outputs": [
    {
     "data": {
      "text/plain": [
       "[<matplotlib.lines.Line2D at 0x7fadc5f5e5b0>]"
      ]
     },
     "execution_count": 6,
     "metadata": {},
     "output_type": "execute_result"
    },
    {
     "data": {
      "image/png": "[encoded data removed]",
      "text/plain": [
       "<Figure size 770x440 with 1 Axes>"
      ]
     },
     "metadata": {
      "needs_background": "light"
     },
     "output_type": "display_data"
    }
   ],
   "source": [
    "# write your code here\n",
    "def loop_likelihood(D):\n",
    "    interval = 100 + 1 # 0 to 1.00 (step 0.01) inclusive\n",
    "    mus = np.array(np.linspace(0,1, interval)).reshape(interval,1)\n",
    "    likelihood_given_d = lambda m: compute_likelihood(D, m)\n",
    "    likelihoods = np.array(list(map(likelihood_given_d, mus))).reshape(interval,1)\n",
    "    return np.concatenate([mus, likelihoods], axis=1)\n",
    "\n",
    "\n",
    "ll = loop_likelihood(data)\n",
    "mus, likelihoods = ll[:,0], ll[:,1]\n",
    "\n",
    "fig, ax = plt.subplots()\n",
    "ax.plot(mus, likelihoods)"
   ]
  },
  {
   "cell_type": "markdown",
   "metadata": {},
   "source": [
    "### Questions:\n",
    "\n",
    "- What is the value of the maximum likelihood $\\text{ML} = \\max p(D|\\mu)$ ? \n",
    "\n",
    "- What is $\\mu_{\\text{ML}} = arg\\,max_\\mu \\, p(D|\\mu)$? \n",
    "\n",
    "Make sure you understand the difference between the two."
   ]
  },
  {
   "cell_type": "code",
   "execution_count": 7,
   "metadata": {},
   "outputs": [
    {
     "data": {
      "text/plain": [
       "(4.491192371239735e-14, 0.67)"
      ]
     },
     "execution_count": 7,
     "metadata": {},
     "output_type": "execute_result"
    }
   ],
   "source": [
    "# write your code here\n",
    "ML = likelihoods.max()\n",
    "mu_ML = mus[list(likelihoods).index(ML)]\n",
    "\n",
    "ML, mu_ML"
   ]
  },
  {
   "cell_type": "markdown",
   "metadata": {},
   "source": [
    "### Visual interpretation\n",
    "\n",
    "Look at the obtained $\\mu_{\\text{ML}}$ and at the previously plotted histogram. Can you see any relationship between the obtained value and the histogram?\n",
    "\n",
    "Let's now plot $\\mu$ against $p(D|\\mu)$, using the $\\mu$ values you used to compute the likelihoods. Plot also a vertical line located at $\\mu_{\\text{ML}}$. Where does this line lie? Is it a meaningful position?"
   ]
  },
  {
   "cell_type": "code",
   "execution_count": 8,
   "metadata": {},
   "outputs": [
    {
     "data": {
      "text/plain": [
       "[<matplotlib.lines.Line2D at 0x7fadc5f36ca0>]"
      ]
     },
     "execution_count": 8,
     "metadata": {},
     "output_type": "execute_result"
    },
    {
     "data": {
      "image/png": "[encoded data removed]",
      "text/plain": [
       "<Figure size 770x440 with 1 Axes>"
      ]
     },
     "metadata": {
      "needs_background": "light"
     },
     "output_type": "display_data"
    }
   ],
   "source": [
    "# write your code here\n",
    "fig, ax = plt.subplots()\n",
    "ax.grid()\n",
    "ax.plot(mus, likelihoods, color=\"green\")\n",
    "\n",
    "y = np.linspace(0,ML,11)\n",
    "x = np.ones((11,1)) * mu_ML\n",
    "ax.plot(x, y)"
   ]
  },
  {
   "cell_type": "markdown",
   "metadata": {},
   "source": [
    "### Comparison with MLE recipe\n",
    "\n",
    "Now implement the MLE recipe for $\\mu_\\text{ML}$ you solved at the beginning of this sheet to find the value of $\\mu_{ML}$ (note that this should be just one line of code!).\n",
    "\n",
    "Compare this value with that obtained previously. Do the values match? "
   ]
  },
  {
   "cell_type": "code",
   "execution_count": 9,
   "metadata": {},
   "outputs": [
    {
     "data": {
      "text/plain": [
       "0.6742339399999999"
      ]
     },
     "execution_count": 9,
     "metadata": {},
     "output_type": "execute_result"
    }
   ],
   "source": [
    "# write your code here\n",
    "mu_MLcalc = np.mean(data)\n",
    "mu_MLcalc"
   ]
  },
  {
   "cell_type": "markdown",
   "metadata": {},
   "source": []
  },
  {
   "cell_type": "markdown",
   "metadata": {},
   "source": [
    "# 3. Posterior probability\n",
    "\n",
    "Let's suppose now we have some prior knowledge regarding our parameter $\\mu$. More precisely, our belief is that the probability density function (pdf) $p(\\mu)$ modelling our parameter is also given by a normal distribution.\n",
    "\n",
    "Assuming that $\\mu \\sim \\mathcal{N}(0.5,0.01)$, write two functions, `compute_posterior(D, mu)` and `loop_posterior(D)`, to find $\\mu_{\\text{MAP}} = \\arg \\max_{\\mu} p(D|\\mu)p(\\mu)$."
   ]
  },
  {
   "cell_type": "code",
   "execution_count": 10,
   "metadata": {},
   "outputs": [
    {
     "ename": "NameError",
     "evalue": "name 'sigma_mu' is not defined",
     "output_type": "error",
     "traceback": [
      "\u001b[0;31m---------------------------------------------------------------------------\u001b[0m",
      "\u001b[0;31mNameError\u001b[0m                                 Traceback (most recent call last)",
      "\u001b[0;32m<ipython-input-10-8b81ac4ddd28>\u001b[0m in \u001b[0;36m<module>\u001b[0;34m\u001b[0m\n\u001b[1;32m      2\u001b[0m \u001b[0mmuMu\u001b[0m \u001b[0;34m=\u001b[0m \u001b[0mnp\u001b[0m\u001b[0;34m.\u001b[0m\u001b[0marray\u001b[0m\u001b[0;34m(\u001b[0m\u001b[0;34m[\u001b[0m\u001b[0;36m0.5\u001b[0m\u001b[0;34m]\u001b[0m\u001b[0;34m)\u001b[0m\u001b[0;34m\u001b[0m\u001b[0;34m\u001b[0m\u001b[0m\n\u001b[1;32m      3\u001b[0m \u001b[0mmuSigma\u001b[0m \u001b[0;34m=\u001b[0m \u001b[0mnp\u001b[0m\u001b[0;34m.\u001b[0m\u001b[0marray\u001b[0m\u001b[0;34m(\u001b[0m\u001b[0;34m[\u001b[0m\u001b[0;36m0.1\u001b[0m\u001b[0;34m]\u001b[0m\u001b[0;34m)\u001b[0m\u001b[0;34m\u001b[0m\u001b[0;34m\u001b[0m\u001b[0m\n\u001b[0;32m----> 4\u001b[0;31m \u001b[0mmuSigma2\u001b[0m \u001b[0;34m=\u001b[0m \u001b[0mnp\u001b[0m\u001b[0;34m.\u001b[0m\u001b[0msquare\u001b[0m\u001b[0;34m(\u001b[0m\u001b[0msigma_mu\u001b[0m\u001b[0;34m)\u001b[0m\u001b[0;34m\u001b[0m\u001b[0;34m\u001b[0m\u001b[0m\n\u001b[0m\u001b[1;32m      5\u001b[0m \u001b[0;34m\u001b[0m\u001b[0m\n\u001b[1;32m      6\u001b[0m \u001b[0;32mdef\u001b[0m \u001b[0mcompute_posterior\u001b[0m\u001b[0;34m(\u001b[0m\u001b[0mD\u001b[0m\u001b[0;34m,\u001b[0m \u001b[0mmu\u001b[0m\u001b[0;34m)\u001b[0m\u001b[0;34m:\u001b[0m\u001b[0;34m\u001b[0m\u001b[0;34m\u001b[0m\u001b[0m\n",
      "\u001b[0;31mNameError\u001b[0m: name 'sigma_mu' is not defined"
     ]
    }
   ],
   "source": [
    "# write your code here\n",
    "muMu = np.array([0.5])\n",
    "muSigma = np.array([0.1])\n",
    "muSigma2 = np.square(sigma_mu)\n",
    "\n",
    "def compute_posterior(D, mu):\n",
    "    return compute_likelihood(D, mu) * stats.multivariate_normal.pdf(mu, muMu, muSigma2)\n",
    "\n",
    "def loop_posterior(D):\n",
    "    interval = 100 + 1 # 0 to 1.00 (step 0.01) inclusive\n",
    "    mus = np.array(np.linspace(0,1, interval)).reshape(interval,1)\n",
    "    get_posterior = lambda m: compute_posterior(D, m)\n",
    "    posteriors = np.array(list(map(get_posterior, mus))).reshape(interval,1)\n",
    "    return np.concatenate([ mus, posteriors ], axis=1)\n",
    "\n",
    "lps = loop_posterior(data)\n",
    "muMus, posteriors = lps[:,0], lps[:,1]"
   ]
  },
  {
   "cell_type": "markdown",
   "metadata": {},
   "source": [
    "### Visual interpretation\n",
    "\n",
    "\n",
    "Now plot $\\mu$ against both $p(D|\\mu)$ and $p(D|\\mu)p(\\mu)$ similar to the graph below.\n",
    "![MLE](mle.png)"
   ]
  },
  {
   "cell_type": "code",
   "execution_count": null,
   "metadata": {},
   "outputs": [],
   "source": [
    "# write your code here\n",
    "fig, ax = plt.subplots()\n",
    "ax.plot(mus, likelihoods)\n",
    "ax.plot(muMus, posteriors)"
   ]
  },
  {
   "cell_type": "markdown",
   "metadata": {},
   "source": [
    "Repeat now the above calculations for `data2.dat` and `data3.dat`. \n",
    "\n",
    "For both files, plot $\\mu$ against both $p(D|\\mu)$ and $p(D|\\mu)p(\\mu)$."
   ]
  },
  {
   "cell_type": "code",
   "execution_count": null,
   "metadata": {},
   "outputs": [],
   "source": [
    "# write your code here\n",
    "data2 = get_data(\"data2.dat\")\n",
    "# data3 = get_data(\"data3.dat\")\n",
    "\n",
    "ll2s = loop_likelihood(data2)\n",
    "lp2s = loop_posterior(data2)\n",
    "mus2, likelihoods2 = ll2s[:,0], ll2s[:,1] \n",
    "posteriors2 = lp2s[:,1]\n",
    "\n",
    "fig, ax = plt.subplots()\n",
    "ax.plot(mus, likelihoods2)\n",
    "ax.plot(mus2, posteriors2)\n",
    "\n",
    "# lp3s = loop_posterior(data3)"
   ]
  },
  {
   "cell_type": "markdown",
   "metadata": {},
   "source": [
    "### Question\n",
    "\n",
    "Observe the results obtained on `data2` and `data3`. What can we tell by looking at the figures you plotted above?"
   ]
  },
  {
   "cell_type": "markdown",
   "metadata": {},
   "source": [
    "### CORRECT ANSWER\n",
    "\n",
    "When the likelihood is further from the suggested prior, we are less confident about our measurements, and thus we observe a larger distance between the two distributions' mean."
   ]
  },
  {
   "cell_type": "markdown",
   "metadata": {},
   "source": [
    "## EXTRA 1\n",
    "\n",
    "Until now, you assumed that our data was generated from a normal distribution with $\\sigma^2 = 0.25$. \n",
    "\n",
    "Remove this assumption and estimate $\\theta_{\\text{MAP}} = [\\mu_{\\text{MAP}}, \\sigma_{\\text{MAP}}]$ experimentally by looping through different values of $\\mu$ and $\\sigma$. \n",
    "\n",
    "Assume the pdf $p(\\sigma)$ is given by $\\mathcal{N}(0.5, 0.16)$.\n",
    "\n",
    "You may need to use `np.nanargmax` instead of `np.argmax`."
   ]
  },
  {
   "cell_type": "code",
   "execution_count": 17,
   "metadata": {},
   "outputs": [
    {
     "ename": "ValueError",
     "evalue": "all the input arrays must have same number of dimensions, but the array at index 0 has 2 dimension(s) and the array at index 1 has 1 dimension(s)",
     "output_type": "error",
     "traceback": [
      "\u001b[0;31m---------------------------------------------------------------------------\u001b[0m",
      "\u001b[0;31mValueError\u001b[0m                                Traceback (most recent call last)",
      "\u001b[0;32m<ipython-input-17-793ba8c12b71>\u001b[0m in \u001b[0;36m<module>\u001b[0;34m\u001b[0m\n\u001b[1;32m     39\u001b[0m     \u001b[0;32mreturn\u001b[0m \u001b[0mmu_s2_test\u001b[0m\u001b[0;34m,\u001b[0m \u001b[0mmv_posteriors\u001b[0m\u001b[0;34m\u001b[0m\u001b[0;34m\u001b[0m\u001b[0m\n\u001b[1;32m     40\u001b[0m \u001b[0;34m\u001b[0m\u001b[0m\n\u001b[0;32m---> 41\u001b[0;31m \u001b[0mloop_mv_likelihood\u001b[0m\u001b[0;34m(\u001b[0m\u001b[0mdata\u001b[0m\u001b[0;34m)\u001b[0m\u001b[0;34m\u001b[0m\u001b[0;34m\u001b[0m\u001b[0m\n\u001b[0m",
      "\u001b[0;32m<ipython-input-17-793ba8c12b71>\u001b[0m in \u001b[0;36mloop_mv_likelihood\u001b[0;34m(D)\u001b[0m\n\u001b[1;32m     20\u001b[0m     \u001b[0mmv_likelihoods\u001b[0m \u001b[0;34m=\u001b[0m \u001b[0mnp\u001b[0m\u001b[0;34m.\u001b[0m\u001b[0marray\u001b[0m\u001b[0;34m(\u001b[0m\u001b[0mlist\u001b[0m\u001b[0;34m(\u001b[0m\u001b[0mmap\u001b[0m\u001b[0;34m(\u001b[0m\u001b[0;32mlambda\u001b[0m \u001b[0mmu_s2\u001b[0m\u001b[0;34m:\u001b[0m \u001b[0mget_mv_likelihood\u001b[0m\u001b[0;34m(\u001b[0m\u001b[0mmu_s2\u001b[0m\u001b[0;34m)\u001b[0m\u001b[0;34m,\u001b[0m \u001b[0mmu_s2_test\u001b[0m\u001b[0;34m)\u001b[0m\u001b[0;34m)\u001b[0m\u001b[0;34m)\u001b[0m\u001b[0;34m.\u001b[0m\u001b[0mT\u001b[0m\u001b[0;34m\u001b[0m\u001b[0;34m\u001b[0m\u001b[0m\n\u001b[1;32m     21\u001b[0m \u001b[0;34m\u001b[0m\u001b[0m\n\u001b[0;32m---> 22\u001b[0;31m     \u001b[0;32mreturn\u001b[0m \u001b[0mnp\u001b[0m\u001b[0;34m.\u001b[0m\u001b[0mconcatenate\u001b[0m\u001b[0;34m(\u001b[0m\u001b[0;34m[\u001b[0m\u001b[0mmu_s2_test\u001b[0m\u001b[0;34m,\u001b[0m \u001b[0mmv_likelihoods\u001b[0m\u001b[0;34m]\u001b[0m\u001b[0;34m,\u001b[0m \u001b[0maxis\u001b[0m\u001b[0;34m=\u001b[0m\u001b[0;36m1\u001b[0m\u001b[0;34m)\u001b[0m\u001b[0;34m\u001b[0m\u001b[0;34m\u001b[0m\u001b[0m\n\u001b[0m\u001b[1;32m     23\u001b[0m \u001b[0;34m\u001b[0m\u001b[0m\n\u001b[1;32m     24\u001b[0m \u001b[0;32mdef\u001b[0m \u001b[0mcompute_mv_posterior\u001b[0m\u001b[0;34m(\u001b[0m\u001b[0mD\u001b[0m\u001b[0;34m,\u001b[0m \u001b[0mmu\u001b[0m\u001b[0;34m,\u001b[0m \u001b[0ms2\u001b[0m\u001b[0;34m)\u001b[0m\u001b[0;34m:\u001b[0m\u001b[0;34m\u001b[0m\u001b[0;34m\u001b[0m\u001b[0m\n",
      "\u001b[0;32m<__array_function__ internals>\u001b[0m in \u001b[0;36mconcatenate\u001b[0;34m(*args, **kwargs)\u001b[0m\n",
      "\u001b[0;31mValueError\u001b[0m: all the input arrays must have same number of dimensions, but the array at index 0 has 2 dimension(s) and the array at index 1 has 1 dimension(s)"
     ]
    }
   ],
   "source": [
    "# write your code here \n",
    "mu_dist = lambda m: stats.multivariate_normal.pdf(m, 0.5, 0.01)\n",
    "s2_dist = lambda s2: stats.multivariate_normal.pdf(s2, 0.5, 0.16)\n",
    "\n",
    "def compute_mv_likelihood(D, mu, s2):\n",
    "    return np.prod(stats.multivariate_normal.pdf(D, mu, s2))\n",
    "\n",
    "compute_mv_likelihood(data, 0.5, 0.5)\n",
    "\n",
    "def loop_mv_likelihood(D):\n",
    "    samples = 100 + 1 # 0.00 to 1.00 inclusive\n",
    "    mus_test = np.array(np.linspace(0,1,samples)).reshape(samples,1)\n",
    "    s2s_test = np.array(np.linspace(1/(samples-1),1,samples-1)).reshape(samples-1,1) # sigma cannot be zero\n",
    "    \n",
    "    mu_s2_test = np.array([np.concatenate([mu, s2]) for mu in mus_test for s2 in s2s_test])\n",
    "    \n",
    "    def get_mv_likelihood(mu_s2):\n",
    "        return compute_mv_likelihood(D, mu_s2[0], mu_s2[1])\n",
    "    \n",
    "    mv_likelihoods = np.array(list(map(lambda mu_s2: get_mv_likelihood(mu_s2), mu_s2_test)))\n",
    "    \n",
    "    return np.concatenate([mu_s2_test, mv_likelihoods], axis=1)\n",
    "\n",
    "def compute_mv_posterior(D, mu, s2):\n",
    "    return np.prod(compute_mv_likelihood(D, mu, s2)) * mu_dist(mu) * s2_dist(s2)\n",
    "    \n",
    "def loop_mv_posterior(D):    \n",
    "    samples = 100 + 1\n",
    "    mus_test = np.array(np.linspace(0,1,samples)).reshape(samples,1)\n",
    "    s2s_test = np.array(np.linspace(1/(samples-1),1, samples-1)).reshape(samples-1,1)\n",
    "    \n",
    "    mu_s2_test = np.array([np.concatenate([mu, s2]) for mu in mus_test for s2 in s2s_test])\n",
    "    \n",
    "    def get_mv_posterior(mu_s2):\n",
    "        return compute_mv_posterior(D, mu_s2[0], mu_s2[1])\n",
    "    \n",
    "    mv_posteriors = np.array(list(map(lambda mu_s2: get_mv_posterior(mu_s2), mu_s2_test)))\n",
    "    \n",
    "    return mu_s2_test, mv_posteriors\n",
    "    \n",
    "loop_mv_likelihood(data)"
   ]
  },
  {
   "cell_type": "markdown",
   "metadata": {},
   "source": [
    "## EXTRA 2\n",
    "\n",
    "Plot ($\\mu$, $\\sigma$) against $p(D|\\theta)p(\\theta)$ similar to the mesh graph below (use the function `Axes3D.plot_surface`).\n",
    "![MLE mesh](mle2.png)"
   ]
  },
  {
   "cell_type": "code",
   "execution_count": null,
   "metadata": {},
   "outputs": [],
   "source": [
    "# write your code here"
   ]
  }
 ],
 "metadata": {
  "kernelspec": {
   "display_name": "Python 3",
   "language": "python",
   "name": "python3"
  },
  "language_info": {
   "codemirror_mode": {
    "name": "ipython",
    "version": 3
   },
   "file_extension": ".py",
   "mimetype": "text/x-python",
   "name": "python",
   "nbconvert_exporter": "python",
   "pygments_lexer": "ipython3",
   "version": "3.8.5"
  }
 },
 "nbformat": 4,
 "nbformat_minor": 4
}
