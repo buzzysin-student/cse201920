{
 "cells": [
  {
   "cell_type": "code",
   "execution_count": 69,
   "metadata": {},
   "outputs": [
    {
     "name": "stdout",
     "output_type": "stream",
     "text": [
      "{'polynomial': {3: 3514.691362945959, 4: 3283.774179956521},\n",
      " 'sinusoid': {1: 1199.0019987899698, 2: 1124.0073758631672}}\n"
     ]
    }
   ],
   "source": [
    "from lsr import Train, FILE_BASIC, FILE_ADV, FILE_NOISE, Main, Calc, Model\n",
    "from matplotlib import pyplot as plt\n",
    "import numpy as np\n",
    "from pprint import pprint as pp\n",
    "\n",
    "training = []\n",
    "\n",
    "for i in range(1, FILE_BASIC+1):\n",
    "  t = Train(Main.fetch_training(\"basic\", i), use_regulariser=False)\n",
    "  training.append(t)\n",
    "\n",
    "for i in range(1, FILE_ADV+1):\n",
    "  t = Train(Main.fetch_training(\"adv\", i), use_regulariser=False)\n",
    "  training.append(t)\n",
    "\n",
    "for i in range(1, FILE_NOISE+1):\n",
    "  t = Train(Main.fetch_training(\"noise\", i), use_regulariser=False)\n",
    "  training.append(t)\n",
    "\n",
    "\n",
    "unique = (lambda xs:\n",
    "          [] if not len(xs) else\n",
    "          [xs[0]] + unique(xs[1:]) if xs[0] not in list(xs[1:]) else\n",
    "          unique(xs[1:]))\n",
    "\n",
    "filter = (lambda f, xs:\n",
    "          [] if not len(xs) else\n",
    "          [xs[0]] + filter(f, xs[1:]) if f(xs[0]) else\n",
    "          filter(f, xs[1:]))\n",
    "\n",
    "bestFits = dict()\n",
    "for train in training:\n",
    "  for bestFit in train.bestFits:\n",
    "    coeffs = len(bestFit.coeffs) if bestFit.type != \"sinusoid\" else (\n",
    "        len(bestFit.coeffs) - 1)//2\n",
    "    if bestFit.type not in bestFits.keys():\n",
    "      bestFits[bestFit.type] = dict(\n",
    "          fits=[bestFit], types=[coeffs])\n",
    "    else:\n",
    "      bestFits[bestFit.type][\"fits\"].append(bestFit)\n",
    "      bestFits[bestFit.type][\"types\"] = unique(\n",
    "          bestFits[bestFit.type][\"types\"] + [coeffs]\n",
    "      )\n",
    "\n",
    "finalError = dict()\n",
    "for type in bestFits:\n",
    "  bestFits[type]['error'] = []\n",
    "  if len(bestFits[type]['types']) < 2:\n",
    "    continue\n",
    "  \n",
    "  \n",
    "  for segment in bestFits[type]['fits']:\n",
    "    coeffs = len(segment.coeffs) if segment.type != \"sinusoid\" else (\n",
    "        len(segment.coeffs) - 1)//2\n",
    "        \n",
    "    for order in bestFits[type]['types']:\n",
    "      model = getattr(Model, segment.type)(order)\n",
    "      Xe = Calc.extend_input(segment.xs, model)\n",
    "      wH = Calc.regression(model, segment.xs, segment.ys)\n",
    "      error = np.sum(np.square(segment.ys - Xe @ wH))\n",
    "\n",
    "      bestFits[type]['error'].append({\n",
    "        'order': order,\n",
    "        'error': error\n",
    "      })\n",
    "\n",
    "    for error in bestFits[type]['error']:\n",
    "      # print(error)\n",
    "      if type not in finalError:\n",
    "        finalError[type] = dict()\n",
    "    \n",
    "      if order not in finalError[type]:\n",
    "        finalError[type][error['order']] = 0\n",
    "\n",
    "      finalError[type][error['order']] += error['error']\n",
    "\n",
    "# pp(bestFits)\n",
    "pp(finalError)\n"
   ]
  },
  {
   "cell_type": "code",
   "execution_count": null,
   "metadata": {},
   "outputs": [],
   "source": []
  },
  {
   "cell_type": "code",
   "execution_count": null,
   "metadata": {},
   "outputs": [],
   "source": []
  },
  {
   "cell_type": "code",
   "execution_count": null,
   "metadata": {},
   "outputs": [],
   "source": []
  }
 ],
 "metadata": {
  "kernelspec": {
   "display_name": "Python 3.8.8 64-bit ('base': conda)",
   "name": "python388jvsc74a57bd0d9eb29bedf823760b864ade0cfb3de45c443b58cb85e028ce016e1981272b796"
  },
  "language_info": {
   "name": "python",
   "version": ""
  },
  "orig_nbformat": 2
 },
 "nbformat": 4,
 "nbformat_minor": 2
}